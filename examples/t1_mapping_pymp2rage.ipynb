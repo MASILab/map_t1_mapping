{
 "cells": [
  {
   "cell_type": "markdown",
   "metadata": {},
   "source": [
    "# T1 Mapping using pymp2rage"
   ]
  },
  {
   "cell_type": "code",
   "execution_count": 1,
   "metadata": {},
   "outputs": [],
   "source": [
    "# Calculates a quantitative T1 mapping from MP2RAGE data\n",
    "import os\n",
    "import json\n",
    "import matplotlib.pyplot as plt\n",
    "import pymp2rage\n",
    "import nibabel as nib\n",
    "from nilearn import plotting"
   ]
  },
  {
   "cell_type": "markdown",
   "metadata": {},
   "source": [
    "## Load data"
   ]
  },
  {
   "cell_type": "code",
   "execution_count": 2,
   "metadata": {},
   "outputs": [],
   "source": [
    "# Load dataset paths\n",
    "# Load dataset paths\n",
    "subject = '334264'\n",
    "scan = '401-x-WIPMP2RAGE_0p7mm_1sTI_best_oneSENSE-x-WIPMP2RAGE_0p7mm_1sTI_best_oneSENSE'\n",
    "scan_num = '401'\n",
    "scan_times = ['1010', '3310']\n",
    "dataset_path = '/nfs/masi/saundam1/outputs/mp2rage_converted_v2023/'\n",
    "subject_path = os.path.join(dataset_path, subject, scan)\n",
    "\n",
    "# Load NIFTI files\n",
    "inv1_real = nib.load(os.path.join(subject_path, f'{scan_num}_real_t{scan_times[0]}.nii'))\n",
    "inv1_imag = nib.load(os.path.join(subject_path, f'{scan_num}_imaginary_t{scan_times[0]}.nii'))\n",
    "inv2_real = nib.load(os.path.join(subject_path, f'{scan_num}_real_t{scan_times[1]}.nii'))\n",
    "inv2_imag = nib.load(os.path.join(subject_path, f'{scan_num}_imaginary_t{scan_times[1]}.nii'))"
   ]
  },
  {
   "cell_type": "markdown",
   "metadata": {},
   "source": [
    "## Load JSON"
   ]
  },
  {
   "cell_type": "code",
   "execution_count": 6,
   "metadata": {},
   "outputs": [],
   "source": [
    "# Load JSON\n",
    "inv1_json_path = os.path.join(subject_path, f'{scan_num}_t{scan_times[0]}.json')\n",
    "inv2_json_path = os.path.join(subject_path, f'{scan_num}_t{scan_times[1]}.json')\n",
    "with open(inv1_json_path, 'r') as f1, open(inv2_json_path, 'r') as f2:\n",
    "    inv1_json = json.load(f1)\n",
    "    inv2_json = json.load(f2)"
   ]
  },
  {
   "cell_type": "markdown",
   "metadata": {},
   "source": [
    "## Create complex data"
   ]
  },
  {
   "cell_type": "code",
   "execution_count": 4,
   "metadata": {},
   "outputs": [],
   "source": [
    "# Load data from NIFTI\n",
    "inv1_real_data = inv1_real.get_fdata()\n",
    "inv1_imag_data = inv1_imag.get_fdata()\n",
    "inv2_real_data = inv2_real.get_fdata()\n",
    "inv2_imag_data = inv2_imag.get_fdata()\n",
    "\n",
    "# Create combined complex data\n",
    "inv1_data = inv1_real_data + 1j*inv1_imag_data\n",
    "inv2_data = inv2_real_data + 1j*inv2_imag_data"
   ]
  },
  {
   "cell_type": "markdown",
   "metadata": {},
   "source": [
    "## Load acquisition parameters"
   ]
  },
  {
   "cell_type": "code",
   "execution_count": null,
   "metadata": {},
   "outputs": [],
   "source": [
    "# Load acquisition parameters\n",
    "MPRAGE_tr = 6\n",
    "nZslices = 34\n",
    "FLASH_tr = [inv1_json['RepetitionTime'], inv2_json['RepetitionTime']]\n",
    "invtimesAB = [inv1_json['TriggerDelayTime']/1000, inv2_json['TriggerDelayTime']/1000]\n",
    "flipangleABdegree =[inv1_json['FlipAngle'], inv2_json['FlipAngle']]\n",
    "sequence = 'normal'\n",
    "inversion_efficiency = 0.96 # estimate\n",
    "B0 = inv1_json['MagneticFieldStrength']"
   ]
  }
 ],
 "metadata": {
  "kernelspec": {
   "display_name": "neuro",
   "language": "python",
   "name": "python3"
  },
  "language_info": {
   "codemirror_mode": {
    "name": "ipython",
    "version": 3
   },
   "file_extension": ".py",
   "mimetype": "text/x-python",
   "name": "python",
   "nbconvert_exporter": "python",
   "pygments_lexer": "ipython3",
   "version": "3.11.4"
  },
  "orig_nbformat": 4
 },
 "nbformat": 4,
 "nbformat_minor": 2
}
