{
 "cells": [
  {
   "cell_type": "markdown",
   "metadata": {},
   "source": [
    "# Create MP2RAGE Image"
   ]
  },
  {
   "cell_type": "code",
   "execution_count": 15,
   "metadata": {},
   "outputs": [],
   "source": [
    "import os\n",
    "import json\n",
    "import numpy as np\n",
    "import matplotlib.pyplot as plt\n",
    "from nilearn import plotting\n",
    "import nibabel as nib\n",
    "from mp2rage.utils import MP2RAGE"
   ]
  },
  {
   "cell_type": "markdown",
   "metadata": {},
   "source": [
    "## Load data"
   ]
  },
  {
   "cell_type": "code",
   "execution_count": 16,
   "metadata": {},
   "outputs": [],
   "source": [
    "# Load dataset paths\n",
    "subject = '334264'\n",
    "scan = '401-x-WIPMP2RAGE_0p7mm_1sTI_best_oneSENSE-x-WIPMP2RAGE_0p7mm_1sTI_best_oneSENSE'\n",
    "scan_num = '401'\n",
    "scan_times = ['1010', '3310']\n",
    "dataset_path = '/nfs/masi/saundam1/datasets/MP2RAGE/'\n",
    "subject_path = os.path.join(dataset_path, subject, subject, scan, 'NIFTI')\n",
    "\n",
    "# Load NIFTI files\n",
    "scan_name = '401_WIP_MP2RAGE_0p7mm_1sTI_best_one_SENSE'\n",
    "inv1_r = nib.load(os.path.join(subject_path, f'{scan_name}_real_t{scan_times[0]}.nii.gz'))\n",
    "inv1_i = nib.load(os.path.join(subject_path, f'{scan_name}_imaginary_t{scan_times[0]}.nii.gz'))\n",
    "inv2_r = nib.load(os.path.join(subject_path, f'{scan_name}_real_t{scan_times[1]}.nii.gz'))\n",
    "inv2_i = nib.load(os.path.join(subject_path, f'{scan_name}_imaginary_t{scan_times[1]}.nii.gz'))\n",
    "\n",
    "# Load data from NIFTI\n",
    "inv1_real = inv1_r.get_fdata()\n",
    "inv1_imag = inv1_i.get_fdata()\n",
    "inv2_real = inv2_r.get_fdata()\n",
    "inv2_imag = inv2_i.get_fdata()"
   ]
  },
  {
   "cell_type": "markdown",
   "metadata": {},
   "source": [
    "## Calculate MP2RAGE image"
   ]
  },
  {
   "cell_type": "code",
   "execution_count": 17,
   "metadata": {},
   "outputs": [],
   "source": [
    "# # Create combined complex data\n",
    "# inv1_data = inv1_mag*np.exp(1j*inv1_phase)\n",
    "# inv2_data = inv2_mag*np.exp(1j*inv2_phase)\n",
    "inv1_data = inv1_real + inv1_imag\n",
    "inv2_data = inv2_real + inv2_imag\n",
    "\n",
    "# Calculate MP2RAGE image\n",
    "mp2rage = MP2RAGE(inv1_data, inv2_data)\n",
    "mp2rage_nifti = nib.nifti2.Nifti2Image(mp2rage, inv1_r.affine)"
   ]
  },
  {
   "cell_type": "markdown",
   "metadata": {},
   "source": [
    "## Save results"
   ]
  },
  {
   "cell_type": "code",
   "execution_count": 18,
   "metadata": {},
   "outputs": [],
   "source": [
    "# Save to file\n",
    "output_file = os.path.join('outputs', f'example_mp2rage.nii.gz')\n",
    "nib.save(mp2rage_nifti, output_file)"
   ]
  }
 ],
 "metadata": {
  "kernelspec": {
   "display_name": "t1_mapping",
   "language": "python",
   "name": "python3"
  },
  "language_info": {
   "codemirror_mode": {
    "name": "ipython",
    "version": 3
   },
   "file_extension": ".py",
   "mimetype": "text/x-python",
   "name": "python",
   "nbconvert_exporter": "python",
   "pygments_lexer": "ipython3",
   "version": "3.11.4"
  },
  "orig_nbformat": 4
 },
 "nbformat": 4,
 "nbformat_minor": 2
}
