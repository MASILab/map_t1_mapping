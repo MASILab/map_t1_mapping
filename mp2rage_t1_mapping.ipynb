{
 "cells": [
  {
   "cell_type": "markdown",
   "metadata": {},
   "source": [
    "# T1 Mapping from MP2RAGE\n",
    "Adam Saunders\n",
    "\n",
    "Here, I create an example T1 mapping from an MP2RAGE sequence. I used example data from the [CEREBRUM-7T dataset](https://openneuro.org/datasets/ds003642/versions/1.1.0/download). I mostly followed the example from the pymp2rage package, specifically [this file](https://github.com/Gilles86/pymp2rage/blob/master/examples/MP2RAGE%20and%20T1%20fitting.ipynb)."
   ]
  },
  {
   "cell_type": "markdown",
   "metadata": {},
   "source": [
    "## Edits to pymp2rage\n",
    "The data provided by CEREBRUM-7T is only magnitude data. The original MP2RAGE paper describes a formula for working with real-valued data. However, the pymp2rage package requires phase and magnitude data.\n",
    "\n",
    "To solve this issue, I edited the package slightly to allow for real-valued data.\n",
    "\n",
    "`mp2rage.py` (lines 117-119):\n",
    "```python\n",
    "# Normalize phases between 0 and 2 pi\n",
    "self.inv1ph = image.math_img('((x - np.max(x))/ - np.ptp(x)) * 2 * np.pi', x=self.inv1ph)\n",
    "self.inv2ph = image.math_img('((x - np.max(x))/ - np.ptp(x)) * 2 * np.pi', x=self.inv2ph)\n",
    "```\n",
    "\n",
    "Edited to add code for when `inv1ph` and `inv2ph` aren't defined:\n",
    "```python\n",
    "if inv1ph is not None and inv2ph is not None:\n",
    "    self.inv1ph = image.math_img('((x - np.max(x))/ - np.ptp(x)) * 2 * np.pi', x=self.inv1ph)\n",
    "    self.inv2ph = image.math_img('((x - np.max(x))/ - np.ptp(x)) * 2 * np.pi', x=self.inv2ph)\n",
    "else:\n",
    "    self.inv1ph = None\n",
    "    self.inv2ph = None\n",
    "```\n",
    "\n",
    "`mp2rage.py` (line 153):\n",
    "```python\n",
    "def r1(self):\n",
    "```\n",
    "\n",
    "Edited to rename to t1 (likely a typo in original):\n",
    "```python\n",
    "def t1(self):\n",
    "```\n",
    "\n",
    "`mp2rage.py` (lines 159-164):\n",
    "```python\n",
    "def fit_t1w_uni(self):\n",
    "    compINV1 = self.inv1.get_data() * np.exp(self.inv1ph.get_data() * 1j)\n",
    "    compINV2 = self.inv2.get_data() * np.exp(self.inv2ph.get_data() * 1j)\n",
    "\n",
    "    # Scale to 4095\n",
    "    self._t1w_uni = (np.real(compINV1*compINV2/(compINV1**2 + compINV2**2)))*4095+2048\n",
    "```\n",
    "\n",
    "Edited to calculate T1 map when phase isn't given:\n",
    "```python\n",
    "def fit_t1w_uni(self):\n",
    "    if self.inv1ph is not None and self.inv2ph is not None:\n",
    "        compINV1 = self.inv1.get_data() * np.exp(self.inv1ph.get_data() * 1j)\n",
    "        compINV2 = self.inv2.get_data() * np.exp(self.inv2ph.get_data() * 1j)\n",
    "\n",
    "        # Scale to 4095\n",
    "        self._t1w_uni = (np.real(compINV1*compINV2/(compINV1**2 + compINV2**2)))*4095+2048\n",
    "    else:\n",
    "        inv1 = self.inv1.get_fdata()\n",
    "        inv2 = self.inv2.get_fdata()\n",
    "\n",
    "        # Scale to 4095\n",
    "        self._t1w_uni = (inv1*inv2/(inv1**2 + inv2**2))*4095+2048\n",
    "```"
   ]
  },
  {
   "cell_type": "markdown",
   "metadata": {},
   "source": [
    "## Import packages and load data"
   ]
  },
  {
   "cell_type": "code",
   "execution_count": 2,
   "metadata": {},
   "outputs": [],
   "source": [
    "import os\n",
    "import json\n",
    "import matplotlib.pyplot as plt\n",
    "from nilearn import plotting\n",
    "import nibabel as nib\n",
    "import pymp2rage\n",
    "\n",
    "# Load dataset paths\n",
    "dataset_path = '/home/saundam1/Datasets/ds003642'\n",
    "subject_path = os.path.join(dataset_path, 'sub-025', 'ses-003', 'anat')\n",
    "\n",
    "# Load JSON\n",
    "inv1_json_path = os.path.join(subject_path, 'sub-025_ses-003_INV1.json')\n",
    "inv2_json_path = os.path.join(subject_path, 'sub-025_ses-003_INV2.json')\n",
    "with open(inv1_json_path, 'r') as f1, open(inv2_json_path, 'r') as f2:\n",
    "    inv1_json = json.load(f1)\n",
    "    inv2_json = json.load(f2)\n",
    "\n",
    "# Load NIFTI files\n",
    "inv1_path = os.path.join(subject_path, 'sub-025_ses-003_INV1.nii.gz')\n",
    "inv2_path = os.path.join(subject_path, 'sub-025_ses-003_INV2.nii.gz')\n",
    "inv1 = nib.load(inv1_path)\n",
    "inv2 = nib.load(inv2_path)"
   ]
  },
  {
   "cell_type": "markdown",
   "metadata": {},
   "source": [
    "## Load acquisition parameters\n",
    "Some of the parameters are provided by JSON files accompanying the CEREBRUM-7T data. Others are not given. Specifically, the FLASH_TR and inversion efficiency are not given. I decided to use 0.002 for the FLASH_TR (arbitrary) and the efficiency use in the original MP2RAGE code (0.96)."
   ]
  },
  {
   "cell_type": "code",
   "execution_count": 3,
   "metadata": {},
   "outputs": [],
   "source": [
    "# Load acquisition parameters\n",
    "MPRAGE_tr = inv1_json['RepetitionTime']\n",
    "invtimesAB = [inv1_json['InversionTime'], inv2_json['InversionTime']]\n",
    "flipangleABdegree =[inv1_json['FlipAngle'], inv2_json['FlipAngle']]\n",
    "nZslices = inv1.header['dim'][3]\n",
    "FLASH_tr=0.00207 # not correct\n",
    "sequence = 'normal'\n",
    "inversion_efficiency = 0.96 # estimate\n",
    "B0 = inv1_json['MagneticFieldStrength']"
   ]
  },
  {
   "cell_type": "markdown",
   "metadata": {},
   "source": [
    "## Create MP2RAGE T1 fitter"
   ]
  },
  {
   "cell_type": "code",
   "execution_count": 4,
   "metadata": {},
   "outputs": [
    {
     "name": "stderr",
     "output_type": "stream",
     "text": [
      "/home-nfs2/local/VANDERBILT/saundam1/Documents/pymp2rage/pymp2rage/mp2rage.py:178: RuntimeWarning: invalid value encountered in divide\n",
      "  self._t1w_uni = (inv1*inv2/(inv1**2 + inv2**2))*4095+2048\n",
      "<string>:1: RuntimeWarning: divide by zero encountered in divide\n"
     ]
    }
   ],
   "source": [
    "# Create MP2RAGE fitter\n",
    "fitter = pymp2rage.MP2RAGE(MPRAGE_tr = MPRAGE_tr,\n",
    "                           invtimesAB = invtimesAB,\n",
    "                           flipangleABdegree = flipangleABdegree,\n",
    "                           nZslices = nZslices,\n",
    "                           FLASH_tr = FLASH_tr,\n",
    "                           sequence = sequence,\n",
    "                           inversion_efficiency = inversion_efficiency,\n",
    "                           B0 = B0,\n",
    "                           inv1 = inv1,\n",
    "                           inv2 = inv2)\n",
    "\n",
    "# Create T1 map\n",
    "t1_map = fitter.t1"
   ]
  },
  {
   "cell_type": "markdown",
   "metadata": {},
   "source": [
    "## Plot slice of T1 map"
   ]
  },
  {
   "cell_type": "code",
   "execution_count": 5,
   "metadata": {},
   "outputs": [
    {
     "name": "stderr",
     "output_type": "stream",
     "text": [
      "<string>:1: RuntimeWarning: divide by zero encountered in divide\n",
      "/home/saundam1/miniconda3/envs/t1_mapping/lib/python3.11/site-packages/nilearn/_utils/niimg.py:62: UserWarning: Non-finite values detected. These values will be replaced with zeros.\n",
      "  warn(\n"
     ]
    }
   ],
   "source": [
    "# Plot it\n",
    "fig = plt.figure(figsize=(24,6))\n",
    "plotting.plot_anat(fitter.t1, figure=fig, cut_coords=(0,0,0))\n",
    "plotting.show()"
   ]
  }
 ],
 "metadata": {
  "kernelspec": {
   "display_name": "t1_mapping",
   "language": "python",
   "name": "python3"
  },
  "language_info": {
   "codemirror_mode": {
    "name": "ipython",
    "version": 3
   },
   "file_extension": ".py",
   "mimetype": "text/x-python",
   "name": "python",
   "nbconvert_exporter": "python",
   "pygments_lexer": "ipython3",
   "version": "3.11.4"
  },
  "orig_nbformat": 4
 },
 "nbformat": 4,
 "nbformat_minor": 2
}
